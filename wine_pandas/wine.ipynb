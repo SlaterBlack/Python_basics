{
 "cells": [
  {
   "cell_type": "code",
   "execution_count": null,
   "metadata": {},
   "outputs": [],
   "source": [
    "import pandas as pd\n",
    "import re"
   ]
  },
  {
   "cell_type": "code",
   "execution_count": null,
   "metadata": {},
   "outputs": [],
   "source": [
    "#   Load csv\n",
    "reviews = pd.read_csv(\"winereviews.csv\",index_col=0)\n",
    "#if there is a index column in a csv file already\n",
    "#   use \"index_col\"  to specify"
   ]
  },
  {
   "cell_type": "code",
   "execution_count": null,
   "metadata": {},
   "outputs": [],
   "source": [
    "# Visualize dataframe\n",
    "\n",
    "display(reviews)\n",
    "#no need to import display if jupyter notebook is used\n",
    "#otherwise, install ipython, thr ipyhton.display()\n",
    "#use \"index_col\" to specify"
   ]
  },
  {
   "cell_type": "code",
   "execution_count": null,
   "metadata": {},
   "outputs": [],
   "source": [
    "#   Get all names of columns\n",
    "\n",
    "for col_name in reviews.columns:\n",
    "    print(col_name)"
   ]
  },
  {
   "cell_type": "code",
   "execution_count": null,
   "metadata": {},
   "outputs": [],
   "source": [
    "display(reviews.points)"
   ]
  },
  {
   "cell_type": "code",
   "execution_count": null,
   "metadata": {},
   "outputs": [],
   "source": [
    "#   Index using numeric slice\n",
    "\n",
    "display(reviews[0:5])\n",
    "print('++++++++++++++++++++++')\n",
    "display(reviews[['country','points']][0:5])"
   ]
  },
  {
   "cell_type": "code",
   "execution_count": null,
   "metadata": {},
   "outputs": [],
   "source": [
    "#   Index using head()\n",
    "\n",
    "display(reviews.head()) #   By default, display first 5 rows in a dataframe\n",
    "print('+++++++++++++++++++++++')\n",
    "display(reviews.head(10)) #   display first 10 rows in a dataframe\n",
    "print('+++++++++++++++++++++++')\n",
    "display(reviews['country'].head(4)) #   For a specific column, display first 4 rows in a dataframe\n",
    "print('+++++++++++++++++++++++')\n",
    "display(reviews[['country','province']].head(4)) #   For multiple columns, display first 4 rows in a dataframe"
   ]
  },
  {
   "cell_type": "code",
   "execution_count": null,
   "metadata": {},
   "outputs": [],
   "source": [
    "#   Display country names without duplicates\n",
    "\n",
    "display(reviews['country'].drop_duplicates())"
   ]
  },
  {
   "cell_type": "code",
   "execution_count": null,
   "metadata": {},
   "outputs": [],
   "source": [
    "display(reviews.iloc[0])    #   select one row\n",
    "display(reviews.iloc[1:4])    #   select multiple rows\n",
    "display(reviews.iloc[0:4 , 0:2])    #   select multiple rows, first 2 columns"
   ]
  },
  {
   "cell_type": "code",
   "execution_count": null,
   "metadata": {},
   "outputs": [],
   "source": [
    "#   Lowest rated wine from each country\n",
    "\n",
    "display(reviews['points'].groupby(reviews['country']).min) "
   ]
  },
  {
   "cell_type": "code",
   "execution_count": null,
   "metadata": {},
   "outputs": [],
   "source": [
    "#   Top 5 wines with the highest points\n",
    "display(reviews.nlargest(5,'points'))   \n",
    "\n",
    "#   Top 5 wines in the US with the highest points\n",
    "display(reviews[reviews['country']=='US'].nlargest(5,'points')) \n",
    "\n",
    "#   Top 10m wines with the highest points in the US or Spain with the price over\n",
    "display (reviews.query(\"country == 'US' or country == 'Spain' and price > 200\").nlargest(10,'points'))    "
   ]
  },
  {
   "cell_type": "code",
   "execution_count": null,
   "metadata": {},
   "outputs": [],
   "source": [
    "reviews.groupby(['country','variety'])['variety'].count()#.first()#.variety.count().sort_values(ascending=False)"
   ]
  },
  {
   "cell_type": "code",
   "execution_count": null,
   "metadata": {},
   "outputs": [],
   "source": [
    "#   Boolean indexing and isin function \n",
    "#   Find wine made in the US and is Spain\\\n",
    "#print(reviews[(reviews['country']=='US') | (reviews['country'] == 'Spain')])\n",
    "\n",
    "bool_index = reviews['country'].isin(['US','Spain']) #it returns the index of wines that are from the US and spain\n",
    "display(bool_index)\n",
    "print(type(bool_index))\n",
    "display(reviews [reviews['country'].isin(['US','Spain'])])"
   ]
  },
  {
   "cell_type": "code",
   "execution_count": null,
   "metadata": {},
   "outputs": [],
   "source": [
    "#   what countries are represnted in the dataset?\n",
    "\n",
    "countries = reviews['country'].unique()\n",
    "display(countries)"
   ]
  },
  {
   "cell_type": "code",
   "execution_count": null,
   "metadata": {},
   "outputs": [],
   "source": [
    "#   Show all wines with a score of 100\n",
    "\n",
    "pointsover100 = reviews[reviews['points']>=100]\n",
    "display(pointsover100)"
   ]
  },
  {
   "cell_type": "code",
   "execution_count": null,
   "metadata": {},
   "outputs": [],
   "source": [
    "#   Find the highest rated wine for each variety\n",
    "\n",
    "highestVariety = reviews['points'].groupby(reviews['variety']).max()\n",
    "display(highestVariety)"
   ]
  },
  {
   "cell_type": "code",
   "execution_count": null,
   "metadata": {},
   "outputs": [],
   "source": [
    "#   Find the lowest rated wine for each variety\n",
    "\n",
    "lowestVariety = reviews['points'].groupby(reviews['variety']).min()\n",
    "display(lowestVariety)"
   ]
  },
  {
   "cell_type": "code",
   "execution_count": null,
   "metadata": {},
   "outputs": [],
   "source": [
    "#Find the top 10 bargain wines (wines with the highest price-to-price ratio)\n",
    "\n",
    "bargains = reviews\n",
    "bargains['value'] = bargains.points / bargains.price\n",
    "display(bargains.nlargest(10,'value'))"
   ]
  },
  {
   "cell_type": "code",
   "execution_count": 27,
   "metadata": {},
   "outputs": [
    {
     "data": {
      "text/plain": [
       "country\n",
       "Albania                   20.000000\n",
       "Argentina                 20.794881\n",
       "Australia                 31.258480\n",
       "Austria                   31.192106\n",
       "Bosnia and Herzegovina    12.750000\n",
       "Brazil                    19.920000\n",
       "Bulgaria                  11.545455\n",
       "Canada                    34.628866\n",
       "Chile                     19.344780\n",
       "China                     20.333333\n",
       "Croatia                   23.108434\n",
       "Cyprus                    15.483871\n",
       "Czech Republic            18.000000\n",
       "Egypt                           NaN\n",
       "England                   47.500000\n",
       "France                    45.619885\n",
       "Georgia                   18.581395\n",
       "Germany                   39.011078\n",
       "Greece                    21.747706\n",
       "Hungary                   44.204348\n",
       "India                     13.875000\n",
       "Israel                    31.304918\n",
       "Italy                     37.547913\n",
       "Japan                     24.000000\n",
       "Lebanon                   25.432432\n",
       "Lithuania                 10.000000\n",
       "Luxembourg                40.666667\n",
       "Macedonia                 15.312500\n",
       "Mexico                    29.095238\n",
       "Moldova                   15.366197\n",
       "Montenegro                10.000000\n",
       "Morocco                   18.833333\n",
       "New Zealand               24.173290\n",
       "Portugal                  26.332615\n",
       "Romania                   16.395683\n",
       "Serbia                    24.285714\n",
       "Slovakia                  15.333333\n",
       "Slovenia                  28.061728\n",
       "South Africa              21.130532\n",
       "South Korea               13.500000\n",
       "Spain                     27.048529\n",
       "Switzerland               26.500000\n",
       "Tunisia                         NaN\n",
       "Turkey                    25.800000\n",
       "US                        33.653808\n",
       "US-France                 50.000000\n",
       "Ukraine                   13.000000\n",
       "Uruguay                   25.847059\n",
       "Name: price, dtype: float64"
      ]
     },
     "metadata": {},
     "output_type": "display_data"
    }
   ],
   "source": [
    "#   Calculate the avergae price of wine for the country:\n",
    "\n",
    "averageCountryPrice = reviews['price'].groupby(reviews['country']).mean()\n",
    "display(averageCountryPrice)"
   ]
  },
  {
   "cell_type": "code",
   "execution_count": 28,
   "metadata": {},
   "outputs": [
    {
     "data": {
      "text/plain": [
       "variety\n",
       "Agiorgitiko               19.299145\n",
       "Aglianico                 33.169884\n",
       "Aidani                    27.000000\n",
       "Airen                      8.833333\n",
       "Albana                    33.933333\n",
       "                            ...    \n",
       "Zierfandler-Rotgipfler    22.500000\n",
       "Zinfandel                 26.775962\n",
       "Zlahtina                  15.000000\n",
       "Zweigelt                  21.295000\n",
       "Žilavka                   14.000000\n",
       "Name: price, Length: 632, dtype: float64"
      ]
     },
     "metadata": {},
     "output_type": "display_data"
    }
   ],
   "source": [
    "#   Calculate the avergae price of wine for the variety:\n",
    "\n",
    "averageVarietyPrice = reviews['price'].groupby(reviews['variety']).mean()\n",
    "display(averageVarietyPrice)"
   ]
  }
 ],
 "metadata": {
  "kernelspec": {
   "display_name": "Python 3.7.13 ('Software_Technologies')",
   "language": "python",
   "name": "python3"
  },
  "language_info": {
   "codemirror_mode": {
    "name": "ipython",
    "version": 3
   },
   "file_extension": ".py",
   "mimetype": "text/x-python",
   "name": "python",
   "nbconvert_exporter": "python",
   "pygments_lexer": "ipython3",
   "version": "3.7.13"
  },
  "orig_nbformat": 4,
  "vscode": {
   "interpreter": {
    "hash": "ad2f035335279aa1734a78d76d7ae901a6373d7759c15711ab36e8be6b33e9de"
   }
  }
 },
 "nbformat": 4,
 "nbformat_minor": 2
}
