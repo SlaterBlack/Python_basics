{
 "cells": [
  {
   "cell_type": "code",
   "execution_count": null,
   "metadata": {},
   "outputs": [],
   "source": [
    "import pandas as pd\n",
    "import re"
   ]
  },
  {
   "cell_type": "code",
   "execution_count": null,
   "metadata": {},
   "outputs": [],
   "source": [
    "#   Load csv\n",
    "reviews = pd.read_csv(\"winereviews.csv\",index_col=0)\n",
    "#if there is a index column in a csv file already\n",
    "#   use \"index_col\"  to specify"
   ]
  },
  {
   "cell_type": "code",
   "execution_count": null,
   "metadata": {},
   "outputs": [],
   "source": [
    "#visualize dataframe\n",
    "display(reviews)\n",
    "#no need to import display if jupyter notebook is used\n",
    "#otherwise, install ipython, thr ipyhton.display()\n",
    "#use \"index_col\" to specify"
   ]
  },
  {
   "cell_type": "code",
   "execution_count": null,
   "metadata": {},
   "outputs": [],
   "source": [
    "#   Get all names of columns\n",
    "for col_name in reviews.columns:\n",
    "    print(col_name)"
   ]
  },
  {
   "cell_type": "code",
   "execution_count": null,
   "metadata": {},
   "outputs": [],
   "source": [
    "display(reviews.points)"
   ]
  },
  {
   "cell_type": "code",
   "execution_count": null,
   "metadata": {},
   "outputs": [],
   "source": [
    "#   Index using numeric slice\n",
    "display(reviews[0:5])\n",
    "print('++++++++++++++++++++++')\n",
    "display(reviews[['country','points']][0:5])"
   ]
  },
  {
   "cell_type": "code",
   "execution_count": null,
   "metadata": {},
   "outputs": [],
   "source": [
    "#   Index using head()\n",
    "display(reviews.head()) #   By default, display first 5 rows in a dataframe\n",
    "print('+++++++++++++++++++++++')\n",
    "display(reviews.head(10)) #   display first 10 rows in a dataframe\n",
    "print('+++++++++++++++++++++++')\n",
    "display(reviews['country'].head(4)) #   For a specific column, display first 4 rows in a dataframe\n",
    "print('+++++++++++++++++++++++')\n",
    "display(reviews[['country','province']].head(4)) #   For multiple columns, display first 4 rows in a dataframe"
   ]
  },
  {
   "cell_type": "code",
   "execution_count": null,
   "metadata": {},
   "outputs": [],
   "source": [
    "#   Display country names without duplicates\n",
    "display(reviews['country'].drop_duplicates())"
   ]
  },
  {
   "cell_type": "code",
   "execution_count": null,
   "metadata": {},
   "outputs": [],
   "source": [
    "display(reviews.iloc[0])    #   select one row\n",
    "display(reviews.iloc[1:4])    #   select multiple rows\n",
    "display(reviews.iloc[0:4 , 0:2])    #   select multiple rows, first 2 columns"
   ]
  },
  {
   "cell_type": "code",
   "execution_count": null,
   "metadata": {},
   "outputs": [],
   "source": [
    "#   Lowest rated wine from each country\n",
    "display(reviews['points'].groupby(reviews['country']).min) "
   ]
  },
  {
   "cell_type": "code",
   "execution_count": null,
   "metadata": {},
   "outputs": [],
   "source": [
    "#   Top 5 wines with the highest points\n",
    "display(reviews.nlargest(5,'points'))   \n",
    "#   Top 5 wines in the US with the highest points\n",
    "display(reviews[reviews['country']=='US'].nlargest(5,'points')) \n",
    "#   Top 10m wines with the highest points in the US or Spain with the price over\n",
    "display (reviews.query(\"country == 'US' or country == 'Spain' and price > 200\").nlargest(10,'points'))    "
   ]
  },
  {
   "cell_type": "code",
   "execution_count": null,
   "metadata": {},
   "outputs": [],
   "source": [
    "reviews.groupby(['country','variety'])['variety'].count()#.first()#.variety.count().sort_values(ascending=False)"
   ]
  },
  {
   "cell_type": "code",
   "execution_count": null,
   "metadata": {},
   "outputs": [],
   "source": [
    "#   Boolean indexing and isin function \n",
    "#   Find wine made in the US and is Spain\\\n",
    "#print(reviews[(reviews['country']=='US') | (reviews['country'] == 'Spain')])\n",
    "bool_index = reviews['country'].isin(['US','Spain']) #it returns the index of wines that are from the US and spain\n",
    "display(bool_index)\n",
    "print(type(bool_index))\n",
    "display(reviews [reviews['country'].isin(['US','Spain'])])"
   ]
  }
 ],
 "metadata": {
  "kernelspec": {
   "display_name": "Python 3.7.13 ('Software_Technology')",
   "language": "python",
   "name": "python3"
  },
  "language_info": {
   "codemirror_mode": {
    "name": "ipython",
    "version": 3
   },
   "file_extension": ".py",
   "mimetype": "text/x-python",
   "name": "python",
   "nbconvert_exporter": "python",
   "pygments_lexer": "ipython3",
   "version": "3.7.13"
  },
  "orig_nbformat": 4,
  "vscode": {
   "interpreter": {
    "hash": "a099aa324a2b62702a0a943eddb854268c831ccbe02d8a3216387260b93d0ba2"
   }
  }
 },
 "nbformat": 4,
 "nbformat_minor": 2
}
