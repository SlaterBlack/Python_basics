{
 "cells": [
  {
   "cell_type": "code",
   "execution_count": 3,
   "metadata": {},
   "outputs": [
    {
     "name": "stdout",
     "output_type": "stream",
     "text": [
      "[('Hotel',), ('Guest',), ('Room',), ('Booking',)]\n"
     ]
    }
   ],
   "source": [
    "import sqlite3\n",
    "\n",
    "con = sqlite3.connect('hotel.db')\n",
    "cursor = con.cursor()\n",
    "\n",
    "def  printRes(r):\n",
    "    for L in r:\n",
    "        print(L)\n",
    "    print()\n",
    "\n",
    "cursor.execute(\"SELECT name FROM sqlite_master WHERE type='table';\")\n",
    "print(cursor.fetchall())"
   ]
  },
  {
   "cell_type": "code",
   "execution_count": 12,
   "metadata": {},
   "outputs": [
    {
     "name": "stdout",
     "output_type": "stream",
     "text": [
      "[('H01', 'Grosvenor Hotel', 'Sydney'), ('H02', 'ANA Hotel', 'Sydney'), ('H03', 'Great Mansion Hotel', 'Brisbane'), ('H04', 'Grand Hotel', 'Brisbane'), ('H05', 'Central Hotel', 'Sydney'), ('H06', 'Airport Hotel', 'Sydney')]\n",
      "['hotelNo', 'hotelName', 'city']\n"
     ]
    }
   ],
   "source": [
    "cursor.execute(\"SELECT * FROM Hotel;\")\n",
    "print(cursor.fetchall())\n",
    "names = list(map(lambda x : x[0], cursor.description))\n",
    "print(names)"
   ]
  },
  {
   "cell_type": "code",
   "execution_count": 6,
   "metadata": {},
   "outputs": [
    {
     "name": "stdout",
     "output_type": "stream",
     "text": [
      "['hotelNo', 'hotelName', 'city']\n"
     ]
    }
   ],
   "source": [
    "print(names)"
   ]
  },
  {
   "cell_type": "code",
   "execution_count": 35,
   "metadata": {},
   "outputs": [
    {
     "name": "stdout",
     "output_type": "stream",
     "text": [
      "[('H03', 'Great Mansion Hotel', 'Brisbane'), ('H04', 'Grand Hotel', 'Brisbane')]\n"
     ]
    }
   ],
   "source": [
    "cursor.execute(\"SELECT * FROM Hotel WHERE city = 'Brisbane';\")\n",
    "print(cursor.fetchall())"
   ]
  },
  {
   "cell_type": "code",
   "execution_count": 27,
   "metadata": {},
   "outputs": [
    {
     "name": "stdout",
     "output_type": "stream",
     "text": [
      "[('David Goodman', '21 mains rd,Sydney'), ('David Smith', '101 San_Lurry St, Brisbane'), ('John Wang', '1 newfound Rd, Gold Coast'), ('Lawrence Dooley', '12 Sydney street, Brisbane'), ('Lisa Bourke', None), ('Ray Maher', '10 Churchill Court, Brisbane')]\n"
     ]
    }
   ],
   "source": [
    "cursor.execute(\"SELECT guestName, guestAddress FROM Guest ORDER BY guestName;\")\n",
    "print(cursor.fetchall())\n"
   ]
  },
  {
   "cell_type": "code",
   "execution_count": 37,
   "metadata": {},
   "outputs": [
    {
     "name": "stdout",
     "output_type": "stream",
     "text": [
      "[(120, 'F'), (120, 'F'), (120, 'F'), (120, 'F'), (120, 'F'), (120, 'F'), (120, 'F'), (120, 'F'), (120, 'F'), (120, 'F'), (120, 'F'), (120, 'F'), (150, 'LD'), (150, 'LD'), (150, 'LD'), (150, 'LD'), (150, 'LD'), (150, 'LD'), (100, 'D'), (100, 'D'), (100, 'D'), (100, 'D'), (100, 'D'), (100, 'D'), (80, 'S'), (80, 'S'), (80, 'S'), (80, 'S'), (80, 'S'), (80, 'S'), (80, 'S'), (80, 'S'), (80, 'S'), (80, 'S'), (80, 'S'), (80, 'S'), (100, 'LS'), (100, 'LS'), (100, 'LS'), (100, 'LS'), (100, 'LS'), (100, 'LS'), (78, 'S'), (78, 'S'), (78, 'S'), (78, 'S'), (78, 'S'), (78, 'S'), (78, 'S'), (78, 'S'), (78, 'S'), (78, 'S'), (78, 'S'), (78, 'S'), (75, 'BF'), (75, 'BF'), (75, 'BF'), (75, 'BF'), (75, 'BF'), (75, 'BF')]\n"
     ]
    }
   ],
   "source": [
    "cursor.execute(\"SELECT price, roomtype FROM Room,Hotel;\")\n",
    "print(cursor.fetchall())"
   ]
  }
 ],
 "metadata": {
  "kernelspec": {
   "display_name": "Python 3.7.13 ('Software_Technology')",
   "language": "python",
   "name": "python3"
  },
  "language_info": {
   "codemirror_mode": {
    "name": "ipython",
    "version": 3
   },
   "file_extension": ".py",
   "mimetype": "text/x-python",
   "name": "python",
   "nbconvert_exporter": "python",
   "pygments_lexer": "ipython3",
   "version": "3.7.13"
  },
  "orig_nbformat": 4,
  "vscode": {
   "interpreter": {
    "hash": "a099aa324a2b62702a0a943eddb854268c831ccbe02d8a3216387260b93d0ba2"
   }
  }
 },
 "nbformat": 4,
 "nbformat_minor": 2
}
